{
  "nbformat": 4,
  "nbformat_minor": 0,
  "metadata": {
    "colab": {
      "name": "alexnet.ipynb",
      "provenance": [],
      "collapsed_sections": [],
      "authorship_tag": "ABX9TyPkjiiUI5csHh39+nK1hYfG",
      "include_colab_link": true
    },
    "kernelspec": {
      "name": "python3",
      "display_name": "Python 3"
    }
  },
  "cells": [
    {
      "cell_type": "markdown",
      "metadata": {
        "id": "view-in-github",
        "colab_type": "text"
      },
      "source": [
        "<a href=\"https://colab.research.google.com/github/dipanshuhaldar/AlexNet_implementation_Keras/blob/master/alexnet.ipynb\" target=\"_parent\"><img src=\"https://colab.research.google.com/assets/colab-badge.svg\" alt=\"Open In Colab\"/></a>"
      ]
    },
    {
      "cell_type": "markdown",
      "metadata": {
        "id": "waDVHHSZBIDi",
        "colab_type": "text"
      },
      "source": [
        "##Implementation of AlexNet in Keras with Cats and Dogs dataset"
      ]
    },
    {
      "cell_type": "markdown",
      "metadata": {
        "id": "Lt-Nz__fCcZq",
        "colab_type": "text"
      },
      "source": [
        "**This code implementation is in line with** the design by *Alex Krizhevsky* and *Ilya Sutskever* "
      ]
    },
    {
      "cell_type": "code",
      "metadata": {
        "id": "sVLX2d8spIh4",
        "colab_type": "code",
        "outputId": "7b3158b1-0529-4f82-87ee-ea05af58fa86",
        "colab": {
          "base_uri": "https://localhost:8080/",
          "height": 54
        }
      },
      "source": [
        "#Import all dependencies\n",
        "import keras\n",
        "import matplotlib.pyplot as plt\n",
        "from keras import backend as K\n",
        "from keras.models import Sequential\n",
        "from keras.layers import Dense, Conv2D, Flatten, MaxPool2D\n",
        "from keras.optimizers import Adam, SGD, Adagrad, Adadelta, RMSprop\n",
        "from keras.utils import to_categorical"
      ],
      "execution_count": 0,
      "outputs": [
        {
          "output_type": "stream",
          "text": [
            "Using TensorFlow backend.\n"
          ],
          "name": "stderr"
        }
      ]
    },
    {
      "cell_type": "code",
      "metadata": {
        "id": "I7t_Brdsjk6B",
        "colab_type": "code",
        "outputId": "8af9c72f-27fb-424d-c64f-708eb342b6a0",
        "colab": {
          "base_uri": "https://localhost:8080/",
          "height": 120
        }
      },
      "source": [
        "#mounting google drive\n",
        "from google.colab import drive\n",
        "drive.mount('/content/drive')"
      ],
      "execution_count": 0,
      "outputs": [
        {
          "output_type": "stream",
          "text": [
            "Go to this URL in a browser: https://accounts.google.com/o/oauth2/auth?client_id=947318989803-6bn6qk8qdgf4n4g3pfee6491hc0brc4i.apps.googleusercontent.com&redirect_uri=urn%3aietf%3awg%3aoauth%3a2.0%3aoob&response_type=code&scope=email%20https%3a%2f%2fwww.googleapis.com%2fauth%2fdocs.test%20https%3a%2f%2fwww.googleapis.com%2fauth%2fdrive%20https%3a%2f%2fwww.googleapis.com%2fauth%2fdrive.photos.readonly%20https%3a%2f%2fwww.googleapis.com%2fauth%2fpeopleapi.readonly\n",
            "\n",
            "Enter your authorization code:\n",
            "··········\n",
            "Mounted at /content/drive\n"
          ],
          "name": "stdout"
        }
      ]
    },
    {
      "cell_type": "code",
      "metadata": {
        "id": "Hpk6Wz0aj-Jp",
        "colab_type": "code",
        "colab": {}
      },
      "source": [
        "import os\n",
        "os.chdir('/content/drive/My Drive/AlexNet')"
      ],
      "execution_count": 0,
      "outputs": []
    },
    {
      "cell_type": "code",
      "metadata": {
        "id": "oBs-lzq6qWBe",
        "colab_type": "code",
        "outputId": "f91471c7-e3e2-4d95-c648-e0e2be4c255a",
        "colab": {
          "base_uri": "https://localhost:8080/",
          "height": 71
        }
      },
      "source": [
        "#Generate Training Data\n",
        "from keras.preprocessing.image import ImageDataGenerator\n",
        "import numpy as np\n",
        "\n",
        "trdata = ImageDataGenerator()\n",
        "traindata = trdata.flow_from_directory(directory = 'training_set/training_set', target_size = (227, 227))\n",
        "\n",
        "tstdata = ImageDataGenerator()\n",
        "testdata = tstdata.flow_from_directory(directory = 'test_set/test_set', target_size = (227, 227))"
      ],
      "execution_count": 0,
      "outputs": [
        {
          "output_type": "stream",
          "text": [
            "Found 8008 images belonging to 2 classes.\n",
            "Found 2023 images belonging to 2 classes.\n"
          ],
          "name": "stdout"
        }
      ]
    },
    {
      "cell_type": "markdown",
      "metadata": {
        "id": "N4iDfCyl8pub",
        "colab_type": "text"
      },
      "source": [
        "Model Building"
      ]
    },
    {
      "cell_type": "code",
      "metadata": {
        "id": "NyfP8YxO8iHC",
        "colab_type": "code",
        "colab": {}
      },
      "source": [
        "alexnet = Sequential()\n",
        "\n",
        "#1st Convolutional Layer\n",
        "alexnet.add(Conv2D(filters = 96, input_shape = (227, 227, 3), kernel_size = (11, 11),\n",
        "                 strides = (4, 4), padding = 'valid', activation = 'relu'))\n",
        "\n",
        "#Max Pooling\n",
        "alexnet.add(MaxPool2D(pool_size = (3, 3), strides = (2, 2), padding = 'valid'))\n",
        "\n",
        "#2nd Convolutional Layer\n",
        "alexnet.add(Conv2D(filters = 256, kernel_size = (5, 5), strides = (1, 1), padding = 'same',\n",
        "                 activation = 'relu'))\n",
        "#Max Pooling\n",
        "alexnet.add(MaxPool2D(pool_size = (3, 3), strides = (2, 2), padding = 'valid'))\n",
        "\n",
        "#3rd Convolutional Layer\n",
        "alexnet.add(Conv2D(filters = 384, kernel_size = (3, 3), strides = (1, 1), padding = 'same', activation = 'relu'))\n",
        "\n",
        "#4th Convolutional Layer\n",
        "alexnet.add(Conv2D(filters = 384, kernel_size = (3, 3), strides = (1, 1), padding = 'same', activation = 'relu'))\n",
        "\n",
        "#5th Convolutional Layer\n",
        "alexnet.add(Conv2D(filters = 256, kernel_size = (3, 3), strides = (1, 1), padding = 'same', activation = 'relu'))\n",
        "\n",
        "#Max Pooling\n",
        "alexnet.add(MaxPool2D(pool_size = (3, 3), strides = (2, 2), padding = 'valid'))\n",
        "\n",
        "#Passing to a Fully Connected Layer\n",
        "alexnet.add(Flatten())\n",
        "\n",
        "#1st Fully Connected Layer\n",
        "alexnet.add(Dense(units = 9216, activation = 'relu'))\n",
        "\n",
        "#2nd Fully Connected Layer\n",
        "alexnet.add(Dense(units = 4096, activation = 'relu'))\n",
        "\n",
        "#3rd Fully Connected Layer\n",
        "alexnet.add(Dense(units = 4096, activation = 'relu'))\n",
        "\n",
        "#Output Layer\n",
        "alexnet.add(Dense(units = 2, activation = 'softmax'))"
      ],
      "execution_count": 0,
      "outputs": []
    },
    {
      "cell_type": "markdown",
      "metadata": {
        "id": "MCfJ-Tk1_nXN",
        "colab_type": "text"
      },
      "source": [
        "Model Compilation"
      ]
    },
    {
      "cell_type": "code",
      "metadata": {
        "id": "WPGdtpeMAKcC",
        "colab_type": "code",
        "colab": {}
      },
      "source": [
        "#Model Evaluation Metrics\n",
        "\n",
        "def recall_m(y_true, y_pred):\n",
        "    true_positives = K.sum(K.round(K.clip(y_true * y_pred, 0, 1)))\n",
        "    possible_positives = K.sum(K.round(K.clip(y_true, 0, 1)))\n",
        "    recall = true_positives / (possible_positives + K.epsilon())\n",
        "    return recall\n",
        "\n",
        "def precision_m(y_true, y_pred):\n",
        "    true_positives = K.sum(K.round(K.clip(y_true * y_pred, 0, 1)))\n",
        "    predicted_positives = K.sum(K.round(K.clip(y_pred, 0, 1)))\n",
        "    precision = true_positives / (predicted_positives + K.epsilon())\n",
        "    return precision\n",
        "\n",
        "def f1_m(y_true, y_pred):\n",
        "    precision = precision_m(y_true, y_pred)\n",
        "    recall = recall_m(y_true, y_pred)\n",
        "    return 2*((precision*recall)/(precision+recall+K.epsilon()))"
      ],
      "execution_count": 0,
      "outputs": []
    },
    {
      "cell_type": "code",
      "metadata": {
        "id": "QiLvBjBf_m5Q",
        "colab_type": "code",
        "colab": {}
      },
      "source": [
        "from keras.optimizers import Adam\n",
        "\n",
        "alexnet.compile(optimizer = Adam(lr = 0.001), loss = keras.losses.categorical_crossentropy,\n",
        "                metrics = ['accuracy',f1_m, precision_m, recall_m])"
      ],
      "execution_count": 0,
      "outputs": []
    },
    {
      "cell_type": "markdown",
      "metadata": {
        "id": "vE7MxgxiAPqU",
        "colab_type": "text"
      },
      "source": [
        "Model Training"
      ]
    },
    {
      "cell_type": "code",
      "metadata": {
        "id": "TwyYgxFuASRx",
        "colab_type": "code",
        "outputId": "00cc8904-c8de-4bbe-97f0-9df091b93569",
        "colab": {
          "base_uri": "https://localhost:8080/",
          "height": 994
        }
      },
      "source": [
        "#Early Stopping\n",
        "from keras.callbacks import ModelCheckpoint, EarlyStopping\n",
        "\n",
        "checkpoint = ModelCheckpoint('alexnet_1.h5', monitor = 'val_acc', verbose = 1, save_best_only = True,\n",
        "                             save_weights_only = False, mode = 'auto', period = 1)\n",
        "\n",
        "early_stopping_monitor = EarlyStopping(monitor = 'val_acc', min_delta = 0, patience = 20, verbose = 1,\n",
        "                                       mode = 'auto')\n",
        "\n",
        "#Train Model\n",
        "history = alexnet.fit_generator(steps_per_epoch = 10, generator = traindata, validation_data= testdata,\n",
        "                                validation_steps=10, epochs = 10, callbacks = [checkpoint, early_stopping_monitor])\n",
        "\n",
        "#Accuracy and Loss change per epoch\n",
        "\n",
        "accuracy = history.history['accuracy']\n",
        "val_accuracy = history.history['val_accuracy']\n",
        "loss = history.history['loss'] \n",
        "val_loss = history.history['val_loss']\n",
        "\n",
        "epochs = range(len(accuracy))\n",
        "\n",
        "plt.plot(epochs, accuracy, 'r', label='Training accuracy')\n",
        "plt.plot(epochs, val_accuracy, 'b', label='Validation accuracy')\n",
        "plt.title('Training and validation accuracy')\n",
        "\n",
        "plt.figure()\n",
        "\n",
        "plt.plot(epochs, loss, 'r', label='Training Loss')\n",
        "plt.plot(epochs, val_loss, 'b', label='Validation Loss')\n",
        "plt.title('Training and validation loss')\n",
        "plt.legend()\n",
        "\n",
        "plt.show()"
      ],
      "execution_count": 0,
      "outputs": [
        {
          "output_type": "stream",
          "text": [
            "Epoch 1/10\n",
            "10/10 [==============================] - 88s 9s/step - loss: 4835.6304 - accuracy: 0.4906 - f1_m: 0.4906 - precision_m: 0.4906 - recall_m: 0.4906 - val_loss: 0.7432 - val_accuracy: 0.4750 - val_f1_m: 0.4750 - val_precision_m: 0.4750 - val_recall_m: 0.4750\n",
            "Epoch 2/10\n"
          ],
          "name": "stdout"
        },
        {
          "output_type": "stream",
          "text": [
            "/usr/local/lib/python3.6/dist-packages/keras/callbacks/callbacks.py:707: RuntimeWarning: Can save best model only with val_acc available, skipping.\n",
            "  'skipping.' % (self.monitor), RuntimeWarning)\n",
            "/usr/local/lib/python3.6/dist-packages/keras/callbacks/callbacks.py:846: RuntimeWarning: Early stopping conditioned on metric `val_acc` which is not available. Available metrics are: val_loss,val_accuracy,val_f1_m,val_precision_m,val_recall_m,loss,accuracy,f1_m,precision_m,recall_m\n",
            "  (self.monitor, ','.join(list(logs.keys()))), RuntimeWarning\n"
          ],
          "name": "stderr"
        },
        {
          "output_type": "stream",
          "text": [
            "10/10 [==============================] - 87s 9s/step - loss: 0.8613 - accuracy: 0.4906 - f1_m: 0.4906 - precision_m: 0.4906 - recall_m: 0.4906 - val_loss: 0.6863 - val_accuracy: 0.5312 - val_f1_m: 0.5312 - val_precision_m: 0.5312 - val_recall_m: 0.5312\n",
            "Epoch 3/10\n",
            "10/10 [==============================] - 77s 8s/step - loss: 0.8325 - accuracy: 0.5338 - f1_m: 0.5406 - precision_m: 0.5406 - recall_m: 0.5406 - val_loss: 1.2994 - val_accuracy: 0.4938 - val_f1_m: 0.4937 - val_precision_m: 0.4938 - val_recall_m: 0.4938\n",
            "Epoch 4/10\n",
            "10/10 [==============================] - 85s 9s/step - loss: 0.7524 - accuracy: 0.4812 - f1_m: 0.4812 - precision_m: 0.4812 - recall_m: 0.4812 - val_loss: 0.6853 - val_accuracy: 0.5375 - val_f1_m: 0.5375 - val_precision_m: 0.5375 - val_recall_m: 0.5375\n",
            "Epoch 5/10\n",
            "10/10 [==============================] - 85s 8s/step - loss: 0.7027 - accuracy: 0.5406 - f1_m: 0.5406 - precision_m: 0.5406 - recall_m: 0.5406 - val_loss: 0.6905 - val_accuracy: 0.5031 - val_f1_m: 0.5031 - val_precision_m: 0.5031 - val_recall_m: 0.5031\n",
            "Epoch 6/10\n",
            " 7/10 [====================>.........] - ETA: 26s - loss: 0.7066 - accuracy: 0.4866 - f1_m: 0.4866 - precision_m: 0.4866 - recall_m: 0.4866"
          ],
          "name": "stdout"
        },
        {
          "output_type": "stream",
          "text": [
            "/usr/local/lib/python3.6/dist-packages/keras/utils/data_utils.py:616: UserWarning: The input 152 could not be retrieved. It could be because a worker has died.\n",
            "  UserWarning)\n"
          ],
          "name": "stderr"
        },
        {
          "output_type": "stream",
          "text": [
            "10/10 [==============================] - 110s 11s/step - loss: 0.7031 - accuracy: 0.4719 - f1_m: 0.4719 - precision_m: 0.4719 - recall_m: 0.4719 - val_loss: 0.6908 - val_accuracy: 0.4750 - val_f1_m: 0.4750 - val_precision_m: 0.4750 - val_recall_m: 0.4750\n",
            "Epoch 7/10\n",
            "10/10 [==============================] - 84s 8s/step - loss: 0.6940 - accuracy: 0.5031 - f1_m: 0.5031 - precision_m: 0.5031 - recall_m: 0.5031 - val_loss: 0.6938 - val_accuracy: 0.5322 - val_f1_m: 0.5353 - val_precision_m: 0.5353 - val_recall_m: 0.5353\n",
            "Epoch 8/10\n",
            "10/10 [==============================] - 86s 9s/step - loss: 0.6930 - accuracy: 0.5188 - f1_m: 0.5187 - precision_m: 0.5188 - recall_m: 0.5188 - val_loss: 0.6960 - val_accuracy: 0.5156 - val_f1_m: 0.5156 - val_precision_m: 0.5156 - val_recall_m: 0.5156\n",
            "Epoch 9/10\n",
            "10/10 [==============================] - 81s 8s/step - loss: 0.6928 - accuracy: 0.5125 - f1_m: 0.5125 - precision_m: 0.5125 - recall_m: 0.5125 - val_loss: 0.6886 - val_accuracy: 0.5469 - val_f1_m: 0.5469 - val_precision_m: 0.5469 - val_recall_m: 0.5469\n",
            "Epoch 10/10\n",
            "10/10 [==============================] - 80s 8s/step - loss: 0.6947 - accuracy: 0.5156 - f1_m: 0.5156 - precision_m: 0.5156 - recall_m: 0.5156 - val_loss: 0.6925 - val_accuracy: 0.5031 - val_f1_m: 0.5031 - val_precision_m: 0.5031 - val_recall_m: 0.5031\n"
          ],
          "name": "stdout"
        },
        {
          "output_type": "display_data",
          "data": {
            "image/png": "[encoded data removed]",
            "text/plain": [
              "<Figure size 432x288 with 1 Axes>"
            ]
          },
          "metadata": {
            "tags": [],
            "needs_background": "light"
          }
        },
        {
          "output_type": "display_data",
          "data": {
            "image/png": "[encoded data removed]",
            "text/plain": [
              "<Figure size 432x288 with 1 Axes>"
            ]
          },
          "metadata": {
            "tags": [],
            "needs_background": "light"
          }
        }
      ]
    },
    {
      "cell_type": "markdown",
      "metadata": {
        "id": "oLuRtwKmDURx",
        "colab_type": "text"
      },
      "source": [
        "Make Predictions"
      ]
    },
    {
      "cell_type": "code",
      "metadata": {
        "id": "59sIF-ZzDIRE",
        "colab_type": "code",
        "outputId": "38405398-2509-43be-feab-7b340c789168",
        "colab": {
          "base_uri": "https://localhost:8080/",
          "height": 153
        }
      },
      "source": [
        "#Evaluate the model\n",
        "alexnet.predict_generator(generator = testdata)"
      ],
      "execution_count": 0,
      "outputs": [
        {
          "output_type": "execute_result",
          "data": {
            "text/plain": [
              "array([[0.51027673, 0.48972324],\n",
              "       [0.51027673, 0.48972324],\n",
              "       [0.51027673, 0.48972324],\n",
              "       ...,\n",
              "       [0.51027673, 0.48972324],\n",
              "       [0.51027673, 0.48972324],\n",
              "       [0.51027673, 0.48972324]], dtype=float32)"
            ]
          },
          "metadata": {
            "tags": []
          },
          "execution_count": 13
        }
      ]
    },
    {
      "cell_type": "code",
      "metadata": {
        "id": "-hShBwh7VZ1m",
        "colab_type": "code",
        "colab": {}
      },
      "source": [
        ""
      ],
      "execution_count": 0,
      "outputs": []
    }
  ]
}